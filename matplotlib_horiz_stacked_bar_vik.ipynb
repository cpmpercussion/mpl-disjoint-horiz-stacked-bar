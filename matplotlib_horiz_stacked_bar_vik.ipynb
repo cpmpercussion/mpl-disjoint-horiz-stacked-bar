{
 "cells": [
  {
   "cell_type": "markdown",
   "metadata": {},
   "source": [
    "# Disjoint Horizontal Stacked Bar Charts in Python\n",
    "\n",
    "These charts are perfect for rating-scale survey data as they show the general preference as well as the distribution between each response.\n",
    "\n",
    "The charts are explained more fully in:\n",
    "\n",
    "Heiberger, Richard M., and Naomi B. Robbins. \"Design of diverging stacked bar charts for Likert scales and other applications.\" Journal of Statistical Software 57.5 (2014): 1-32. [doi: 10.18637/jss.v057.i05](http://dx.doi.org/10.18637/jss.v057.i05)\n",
    "\n",
    "\n",
    "And this code is derived from Austin Cory Bart's answer on stack exchange:\n",
    "[https://stackoverflow.com/questions/23142358/create-a-diverging-stacked-bar-chart-in-matplotlib](https://stackoverflow.com/questions/23142358/create-a-diverging-stacked-bar-chart-in-matplotlib)"
   ]
  },
  {
   "cell_type": "code",
   "execution_count": null,
   "metadata": {},
   "outputs": [],
   "source": [
    "import numpy as np\n",
    "import pandas as pd\n",
    "import matplotlib.pyplot as plt\n",
    "import seaborn as sns\n",
    "%matplotlib inline\n",
    "plt.style.use('ggplot')"
   ]
  },
  {
   "cell_type": "code",
   "execution_count": null,
   "metadata": {},
   "outputs": [],
   "source": [
    "# VAE results\n",
    "\n",
    "qual = [0,1,0,2,5,0]\n",
    "crea = [5,2,5,3,2,0]\n",
    "mel = [3,1,2,1,0,2]\n",
    "struc = [0,2,1,2,0,5]\n",
    "sim = [0,2,0,0,1,1]\n",
    "\n",
    "df2 = pd.DataFrame([[0,5,3,0,0],\n",
    "                    [1,2,1,2,2], \n",
    "                    [0,5,2,1,0],\n",
    "                    [2,3,1,2,0], \n",
    "                    [5,2,0,0,1],\n",
    "                     [0,0,2,5,1]],\n",
    "                     columns=[\"Strongly Disagree\", \"Disagree\", \"Neutral\", \"Agree\", \"Strongly Agree\"],\n",
    "                    index=[\"Quality\", \"Creativity\", \"Melody\", \"Structure\", \"Technical st.\", \"Similarity\"])\n",
    "\n",
    "\n",
    "#numeric_cols = [col for col in df2 if df2[col].dtype.kind != 'O']\n",
    "#display(numeric_cols)\n",
    "\n",
    "#df2[numeric_cols] += 1\n",
    "\n",
    "#df2 = df2.reset_index()\n",
    "\n",
    "#df2 = df2.drop(['index'], axis=1)\n",
    "\n",
    "df2\n",
    "counts = df2\n",
    "display(counts)"
   ]
  },
  {
   "cell_type": "code",
   "execution_count": null,
   "metadata": {},
   "outputs": [],
   "source": [
    "# Construct a new dataframe with a \"space\" to offset the counts for each row.\n",
    "disjoint_counts = counts.copy()\n",
    "\n",
    "# Determine the mid point of the plot:\n",
    "middles = (disjoint_counts[\"Neutral\"] * 0.5) + disjoint_counts[[\"Strongly Disagree\", \"Disagree\"]].sum(axis = 1)\n",
    "longest_offset = int(middles.max())\n",
    "\n",
    "# Insert the space column\n",
    "disjoint_counts.insert(0, 'space', (middles - longest_offset).abs())\n",
    "total_width = disjoint_counts.sum(axis=1).max()\n",
    "\n",
    "# do the plotting.\n",
    "background_colour = (0.1, 0.2, 0.5, 0.0)\n",
    "offset_likert_colors = [background_colour,'firebrick','lightcoral','grey','cornflowerblue', 'darkblue']\n",
    "axes = disjoint_counts.plot.barh(figsize=(8,4), stacked=True, color=offset_likert_colors, edgecolor='none', legend=False)\n",
    "fig = axes.get_figure()\n",
    "z = plt.axvline(longest_offset, linestyle='--', color='black', alpha=.5)\n",
    "#z.set_zorder(-1) # puts centre line behind the bars\n",
    "plt.xlim(0, total_width)\n",
    "\n",
    "# Adjust ticks on x-axis.\n",
    "tick_frequency = 1\n",
    "xvalues = range(0,int(np.ceil(total_width)+1),tick_frequency)\n",
    "xlabels = [str(abs(x-longest_offset)) for x in xvalues]\n",
    "plt.xticks(xvalues, xlabels)\n",
    "\n",
    "# legend\n",
    "h,l = axes.get_legend_handles_labels()\n",
    "plt.xlabel(\"count\")\n",
    "lgd = fig.legend(h[1:][::-1],[\"Strongly Agree\", \"Agree\", \"Neutral\", \"Disagree\", \"Strongly Disagree\"],loc='center left',bbox_to_anchor=(0.98, 0.55))\n",
    "\n",
    "plt.tight_layout()\n",
    "\n",
    "plt.show()\n",
    "# save it\n",
    "fig.savefig(\"vae_diverging_chart\",bbox_extra_artists=(lgd,), bbox_inches='tight')"
   ]
  },
  {
   "cell_type": "markdown",
   "metadata": {},
   "source": [
    "VAE - data"
   ]
  },
  {
   "cell_type": "code",
   "execution_count": null,
   "metadata": {},
   "outputs": [],
   "source": [
    "counts2 = pd.DataFrame([[2,4,2,0,0], \n",
    "                    [2,2,1,1,2], \n",
    "                    [1,3,4,0,0], \n",
    "                    [2,5,0,1,0],\n",
    "                   [1,2,1,2,2],\n",
    "                     [0,2,1,3,2]],\n",
    "                     columns=[\"Strongly Disagree\", \"Disagree\", \"Neutral\", \"Agree\", \"Strongly Agree\"],\n",
    "                    index=[\"Quality\", \"Creativity\", \"Melody\", \"Structure\", \"Technical st.\", \"Similarity\"])\n",
    "counts2"
   ]
  },
  {
   "cell_type": "code",
   "execution_count": null,
   "metadata": {},
   "outputs": [],
   "source": [
    "# Construct a new dataframe with a \"space\" to offset the counts for each row.\n",
    "disjoint_counts = counts2.copy()\n",
    "\n",
    "# Determine the mid point of the plot:\n",
    "middles = (disjoint_counts[\"Neutral\"] * 0.5) + disjoint_counts[[\"Strongly Disagree\", \"Disagree\"]].sum(axis = 1)\n",
    "longest_offset = int(middles.max())\n",
    "\n",
    "# Insert the space column\n",
    "disjoint_counts.insert(0, 'space', (middles - longest_offset).abs())\n",
    "total_width = disjoint_counts.sum(axis=1).max()\n",
    "\n",
    "# do the plotting.\n",
    "background_colour = (0.1, 0.2, 0.5, 0.0)\n",
    "offset_likert_colors = [background_colour,'firebrick','lightcoral','grey','cornflowerblue', 'darkblue']\n",
    "axes = disjoint_counts.plot.barh(figsize=(8,4), stacked=True, color=offset_likert_colors, edgecolor='none', legend=False)\n",
    "fig = axes.get_figure()\n",
    "z = plt.axvline(longest_offset, linestyle='--', color='black', alpha=.5)\n",
    "#z.set_zorder(-1) # puts centre line behind the bars\n",
    "plt.xlim(0, total_width)\n",
    "\n",
    "# Adjust ticks on x-axis.\n",
    "tick_frequency = 1\n",
    "xvalues = range(0,int(np.ceil(total_width)+1),tick_frequency)\n",
    "xlabels = [str(abs(x-longest_offset)) for x in xvalues]\n",
    "plt.xticks(xvalues, xlabels)\n",
    "\n",
    "# legend\n",
    "h,l = axes.get_legend_handles_labels()\n",
    "plt.xlabel(\"count\")\n",
    "lgd = fig.legend(h[1:][::-1],[\"Strongly Agree\", \"Agree\", \"Neutral\", \"Disagree\", \"Strongly Disagree\"],loc='center left',bbox_to_anchor=(0.98, 0.55))\n",
    "\n",
    "plt.tight_layout()\n",
    "\n",
    "plt.show()\n",
    "# save it\n",
    "fig.savefig(\"mdn_diverging_chart.png\",bbox_extra_artists=(lgd,), bbox_inches='tight')"
   ]
  }
 ],
 "metadata": {
  "kernelspec": {
   "display_name": "Python 3",
   "language": "python",
   "name": "python3"
  },
  "language_info": {
   "codemirror_mode": {
    "name": "ipython",
    "version": 3
   },
   "file_extension": ".py",
   "mimetype": "text/x-python",
   "name": "python",
   "nbconvert_exporter": "python",
   "pygments_lexer": "ipython3",
   "version": "3.8.5"
  }
 },
 "nbformat": 4,
 "nbformat_minor": 4
}
