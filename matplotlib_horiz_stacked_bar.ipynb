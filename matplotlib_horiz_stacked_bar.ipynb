{
 "cells": [
  {
   "cell_type": "markdown",
   "metadata": {},
   "source": [
    "# Generate Some fake data"
   ]
  },
  {
   "cell_type": "code",
   "execution_count": null,
   "metadata": {},
   "outputs": [],
   "source": [
    "import numpy as np\n",
    "import pandas as pd\n",
    "import matplotlib.pyplot as plt\n",
    "import seaborn as sns\n",
    "%matplotlib inline\n",
    "plt.style.use('ggplot')\n",
    "\n",
    "dat1 = np.random.randint(low=1, high=6, size=150)\n",
    "dat2 = np.random.randint(low=1, high=4, size=150)\n",
    "dat = pd.DataFrame({\"rating1\":  dat1, 'rating2': dat2})\n",
    "dat.plot()\n",
    "\n",
    "display(dat.head())"
   ]
  },
  {
   "cell_type": "markdown",
   "metadata": {},
   "source": [
    "## Box Plot\n",
    "\n",
    "A standard plot, shows the spread and centre, but not amounts of each choice."
   ]
  },
  {
   "cell_type": "code",
   "execution_count": null,
   "metadata": {},
   "outputs": [],
   "source": [
    "# Box Plot:\n",
    "sns.boxplot(x='variable', y='value', data=pd.melt(dat))\n",
    "plt.show()"
   ]
  },
  {
   "cell_type": "markdown",
   "metadata": {},
   "source": [
    "## Horizontally Stacked Bar\n",
    "\n",
    "Shows amounts of each choice, but hard to see positive/negative sentiment overall."
   ]
  },
  {
   "cell_type": "code",
   "execution_count": null,
   "metadata": {},
   "outputs": [],
   "source": [
    "# horizontally stacked bar.\n",
    "\n",
    "# First, construct new dataframe with percentages for each choice.\n",
    "dat_counts = dat.apply(pd.value_counts).fillna(0.)\n",
    "#.reindex([\"Strongly Disagree\", \"Disagree\", \"Neutral\", \"Agree\", \"Strongly Agree\"])\n",
    "#dat_counts = counts.transpose()\n",
    "dat_counts = dat_counts.sort_index()\n",
    "n_responses = dat_counts.rating1.sum()\n",
    "dat_counts = 100 * dat_counts / n_responses # Convert to percentages\n",
    "dat_counts = dat_counts.T\n",
    "dat_counts.columns = [[\"Strongly Disagree\", \"Disagree\", \"Neutral\", \"Agree\", \"Strongly Agree\"]]\n",
    "display(dat_counts)\n",
    "\n",
    "# Do the plotting\n",
    "likert_colors = ['firebrick','lightcoral','grey','cornflowerblue', 'darkblue']\n",
    "axes = dat_counts.plot(kind='barh', stacked=True, figsize=(10,4),  color=likert_colors, edgecolor='none', legend=False)\n",
    "fig = axes.get_figure()\n",
    "plt.xlim(-1, 101)\n",
    "\n",
    "\n",
    "# legend\n",
    "h,l = axes.get_legend_handles_labels()\n",
    "plt.xlabel(\"percent\")\n",
    "lgd = fig.legend(h[:][::-1],[\"Strongly Disagree\", \"Disagree\", \"Neutral\", \"Agree\", \"Strongly Agree\"],loc='center left', bbox_to_anchor=(0.98, 0.5))\n",
    "\n",
    "plt.tight_layout()\n",
    "\n",
    "\n",
    "\n",
    "#\n",
    "fig.savefig(\"stacked_horiz_bar_plot.pdf\",bbox_extra_artists=(lgd,), bbox_inches='tight')\n",
    "plt.show()"
   ]
  },
  {
   "cell_type": "markdown",
   "metadata": {},
   "source": [
    "## Disjoint Stacked Bar Chart\n",
    "\n",
    "Shows amounts of each choice, and gives a quick impression of positive/negative responses."
   ]
  },
  {
   "cell_type": "code",
   "execution_count": null,
   "metadata": {},
   "outputs": [],
   "source": [
    "# Disjoint plot:\n",
    "dat_counts = dat.apply(pd.value_counts).fillna(0.)\n",
    "#.reindex([\"Strongly Disagree\", \"Disagree\", \"Neutral\", \"Agree\", \"Strongly Agree\"])\n",
    "#dat_counts = counts.transpose()\n",
    "counts = dat_counts.sort_index().T\n",
    "display(counts)\n",
    "\n",
    "counts.columns = [[\"Strongly Disagree\", \"Disagree\", \"Neutral\", \"Agree\", \"Strongly Agree\"]]\n",
    "display(counts)"
   ]
  },
  {
   "cell_type": "code",
   "execution_count": null,
   "metadata": {},
   "outputs": [],
   "source": [
    "# Construct a new dataframe with a \"space\" to offset the counts for each row.\n",
    "disjoint_counts = counts.copy()\n",
    "\n",
    "# Determine the mid point of the plot:\n",
    "middles = (disjoint_counts[\"Neutral\"].sum(axis=1) * 0.5) + disjoint_counts[[\"Strongly Disagree\", \"Disagree\"]].sum(axis=1)\n",
    "longest_offset = int(middles.max() + 2.0)\n",
    "\n",
    "# Insert the space column\n",
    "disjoint_counts.insert(0, 'space', (middles - longest_offset).abs())\n",
    "total_width = disjoint_counts.sum(axis=1).max()\n",
    "\n",
    "# do the plotting.\n",
    "background_colour = (0.1, 0.2, 0.5, 0.0)\n",
    "offset_likert_colors = [background_colour,'firebrick','lightcoral','grey','cornflowerblue', 'darkblue']\n",
    "axes = disjoint_counts.plot.barh(figsize=(10,4), stacked=True, color=offset_likert_colors, edgecolor='none', legend=False)\n",
    "fig = axes.get_figure()\n",
    "z = plt.axvline(longest_offset, linestyle='--', color='black', alpha=.5)\n",
    "#z.set_zorder(-1) # puts centre line behind the bars\n",
    "plt.xlim(0, total_width + 2)\n",
    "\n",
    "# Adjust ticks on x-axis.\n",
    "tick_frequency = 20\n",
    "xvalues = range(0,int(np.ceil(total_width)),tick_frequency)\n",
    "xlabels = [str(x-longest_offset) for x in xvalues]\n",
    "plt.xticks(xvalues, xlabels)\n",
    "\n",
    "# legend\n",
    "h,l = axes.get_legend_handles_labels()\n",
    "plt.xlabel(\"count\")\n",
    "lgd = fig.legend(h[1:][::-1],[\"Strongly Disagree\", \"Disagree\", \"Neutral\", \"Agree\", \"Strongly Agree\"],loc='center left',bbox_to_anchor=(0.98, 0.55))\n",
    "\n",
    "plt.tight_layout()\n",
    "\n",
    "plt.show()\n",
    "# save it\n",
    "fig.savefig(\"diverging_stacked_horiz_bar_plot.pdf\",bbox_extra_artists=(lgd,), bbox_inches='tight')\n",
    "# done."
   ]
  }
 ],
 "metadata": {
  "kernelspec": {
   "display_name": "Python 3",
   "language": "python",
   "name": "python3"
  },
  "language_info": {
   "codemirror_mode": {
    "name": "ipython",
    "version": 3
   },
   "file_extension": ".py",
   "mimetype": "text/x-python",
   "name": "python",
   "nbconvert_exporter": "python",
   "pygments_lexer": "ipython3",
   "version": "3.8.5"
  }
 },
 "nbformat": 4,
 "nbformat_minor": 4
}
